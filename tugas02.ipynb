{
 "cells": [
  {
   "cell_type": "code",
   "execution_count": 2,
   "metadata": {},
   "outputs": [],
   "source": [
    "import matplotlib.pyplot as plt\n",
    "import pandas as pd"
   ]
  },
  {
   "cell_type": "code",
   "execution_count": 3,
   "metadata": {},
   "outputs": [],
   "source": [
    "iris=pd.read_csv('http://data.jakarta.go.id/dataset/939e8992-950a-44cf-863c-852705304707/resource/d7b91a9b-71a5-4df7-ab56-341f8f7dc1f7/download/DATA-JUMLAH-PENDUDUK-MENURUT-JENIS-KELAMIN-DAN-RASIO-JENIS-KELAMIN-2019.csv')"
   ]
  },
  {
   "cell_type": "code",
   "execution_count": 4,
   "metadata": {},
   "outputs": [
    {
     "data": {
      "text/html": [
       "<div>\n",
       "<style scoped>\n",
       "    .dataframe tbody tr th:only-of-type {\n",
       "        vertical-align: middle;\n",
       "    }\n",
       "\n",
       "    .dataframe tbody tr th {\n",
       "        vertical-align: top;\n",
       "    }\n",
       "\n",
       "    .dataframe thead th {\n",
       "        text-align: right;\n",
       "    }\n",
       "</style>\n",
       "<table border=\"1\" class=\"dataframe\">\n",
       "  <thead>\n",
       "    <tr style=\"text-align: right;\">\n",
       "      <th></th>\n",
       "      <th>tahun</th>\n",
       "      <th>nama_kota</th>\n",
       "      <th>jumlah_laki-laki</th>\n",
       "      <th>jumlah_perempuan</th>\n",
       "      <th>rasio_jenis_kelamin</th>\n",
       "    </tr>\n",
       "  </thead>\n",
       "  <tbody>\n",
       "    <tr>\n",
       "      <td>0</td>\n",
       "      <td>2019</td>\n",
       "      <td>KEP.SERIBU</td>\n",
       "      <td>14682</td>\n",
       "      <td>14326</td>\n",
       "      <td>102</td>\n",
       "    </tr>\n",
       "    <tr>\n",
       "      <td>1</td>\n",
       "      <td>2019</td>\n",
       "      <td>JAKARTA PUSAT</td>\n",
       "      <td>578430</td>\n",
       "      <td>570017</td>\n",
       "      <td>101</td>\n",
       "    </tr>\n",
       "    <tr>\n",
       "      <td>2</td>\n",
       "      <td>2019</td>\n",
       "      <td>JAKARTA UTARA</td>\n",
       "      <td>919172</td>\n",
       "      <td>899878</td>\n",
       "      <td>102</td>\n",
       "    </tr>\n",
       "    <tr>\n",
       "      <td>3</td>\n",
       "      <td>2019</td>\n",
       "      <td>JAKARTA BARAT</td>\n",
       "      <td>1281363</td>\n",
       "      <td>1255794</td>\n",
       "      <td>102</td>\n",
       "    </tr>\n",
       "    <tr>\n",
       "      <td>4</td>\n",
       "      <td>2019</td>\n",
       "      <td>JAKARTA SELATAN</td>\n",
       "      <td>1174616</td>\n",
       "      <td>1168662</td>\n",
       "      <td>101</td>\n",
       "    </tr>\n",
       "  </tbody>\n",
       "</table>\n",
       "</div>"
      ],
      "text/plain": [
       "   tahun        nama_kota  jumlah_laki-laki  jumlah_perempuan  \\\n",
       "0   2019       KEP.SERIBU             14682             14326   \n",
       "1   2019    JAKARTA PUSAT            578430            570017   \n",
       "2   2019    JAKARTA UTARA            919172            899878   \n",
       "3   2019    JAKARTA BARAT           1281363           1255794   \n",
       "4   2019  JAKARTA SELATAN           1174616           1168662   \n",
       "\n",
       "   rasio_jenis_kelamin  \n",
       "0                  102  \n",
       "1                  101  \n",
       "2                  102  \n",
       "3                  102  \n",
       "4                  101  "
      ]
     },
     "execution_count": 4,
     "metadata": {},
     "output_type": "execute_result"
    }
   ],
   "source": [
    "iris.head()"
   ]
  },
  {
   "cell_type": "code",
   "execution_count": 5,
   "metadata": {},
   "outputs": [
    {
     "data": {
      "text/html": [
       "<div>\n",
       "<style scoped>\n",
       "    .dataframe tbody tr th:only-of-type {\n",
       "        vertical-align: middle;\n",
       "    }\n",
       "\n",
       "    .dataframe tbody tr th {\n",
       "        vertical-align: top;\n",
       "    }\n",
       "\n",
       "    .dataframe thead th {\n",
       "        text-align: right;\n",
       "    }\n",
       "</style>\n",
       "<table border=\"1\" class=\"dataframe\">\n",
       "  <thead>\n",
       "    <tr style=\"text-align: right;\">\n",
       "      <th></th>\n",
       "      <th>tahun</th>\n",
       "      <th>nama_kota</th>\n",
       "      <th>jumlah_laki-laki</th>\n",
       "      <th>jumlah_perempuan</th>\n",
       "      <th>rasio_jenis_kelamin</th>\n",
       "    </tr>\n",
       "  </thead>\n",
       "  <tbody>\n",
       "    <tr>\n",
       "      <td>1</td>\n",
       "      <td>2019</td>\n",
       "      <td>JAKARTA PUSAT</td>\n",
       "      <td>578430</td>\n",
       "      <td>570017</td>\n",
       "      <td>101</td>\n",
       "    </tr>\n",
       "    <tr>\n",
       "      <td>2</td>\n",
       "      <td>2019</td>\n",
       "      <td>JAKARTA UTARA</td>\n",
       "      <td>919172</td>\n",
       "      <td>899878</td>\n",
       "      <td>102</td>\n",
       "    </tr>\n",
       "    <tr>\n",
       "      <td>3</td>\n",
       "      <td>2019</td>\n",
       "      <td>JAKARTA BARAT</td>\n",
       "      <td>1281363</td>\n",
       "      <td>1255794</td>\n",
       "      <td>102</td>\n",
       "    </tr>\n",
       "    <tr>\n",
       "      <td>4</td>\n",
       "      <td>2019</td>\n",
       "      <td>JAKARTA SELATAN</td>\n",
       "      <td>1174616</td>\n",
       "      <td>1168662</td>\n",
       "      <td>101</td>\n",
       "    </tr>\n",
       "    <tr>\n",
       "      <td>5</td>\n",
       "      <td>2019</td>\n",
       "      <td>JAKARTA TIMUR</td>\n",
       "      <td>1602376</td>\n",
       "      <td>1579628</td>\n",
       "      <td>101</td>\n",
       "    </tr>\n",
       "  </tbody>\n",
       "</table>\n",
       "</div>"
      ],
      "text/plain": [
       "   tahun        nama_kota  jumlah_laki-laki  jumlah_perempuan  \\\n",
       "1   2019    JAKARTA PUSAT            578430            570017   \n",
       "2   2019    JAKARTA UTARA            919172            899878   \n",
       "3   2019    JAKARTA BARAT           1281363           1255794   \n",
       "4   2019  JAKARTA SELATAN           1174616           1168662   \n",
       "5   2019    JAKARTA TIMUR           1602376           1579628   \n",
       "\n",
       "   rasio_jenis_kelamin  \n",
       "1                  101  \n",
       "2                  102  \n",
       "3                  102  \n",
       "4                  101  \n",
       "5                  101  "
      ]
     },
     "execution_count": 5,
     "metadata": {},
     "output_type": "execute_result"
    }
   ],
   "source": [
    "iris.tail()"
   ]
  },
  {
   "cell_type": "code",
   "execution_count": 6,
   "metadata": {},
   "outputs": [
    {
     "name": "stdout",
     "output_type": "stream",
     "text": [
      "<class 'pandas.core.frame.DataFrame'>\n",
      "RangeIndex: 6 entries, 0 to 5\n",
      "Data columns (total 5 columns):\n",
      "tahun                  6 non-null int64\n",
      "nama_kota              6 non-null object\n",
      "jumlah_laki-laki       6 non-null int64\n",
      "jumlah_perempuan       6 non-null int64\n",
      "rasio_jenis_kelamin    6 non-null int64\n",
      "dtypes: int64(4), object(1)\n",
      "memory usage: 368.0+ bytes\n"
     ]
    }
   ],
   "source": [
    "iris.info()"
   ]
  },
  {
   "cell_type": "code",
   "execution_count": 9,
   "metadata": {},
   "outputs": [
    {
     "data": {
      "image/png": "[encoded data removed]",
      "text/plain": [
       "<Figure size 720x576 with 1 Axes>"
      ]
     },
     "metadata": {
      "needs_background": "light"
     },
     "output_type": "display_data"
    }
   ],
   "source": [
    "plt.figure(figsize=(10,8))\n",
    "plt.plot(iris['tahun'],label='Tahun')\n",
    "plt.plot(iris['nama_kota'],label='Nama Kota')\n",
    "plt.plot(iris['jumlah_laki-laki'],label='Jumlah Laki-laki')\n",
    "plt.plot(iris['jumlah_perempuan'],label='Jumlah Perempuan')\n",
    "plt.plot(iris['rasio_jenis_kelamin'],label='Rasio Jenis Kelamin')\n",
    "\n",
    "plt.xlabel('Kota')\n",
    "plt.ylabel('Jumlah')\n",
    "plt.title('Data Penduduk Menurut Jenis Kelamin dan Rasio Jenis Kelamin Provinsi DKI Jakarta Tahun 2019')\n",
    "plt.legend()\n",
    "plt.show()"
   ]
  },
  {
   "cell_type": "code",
   "execution_count": null,
   "metadata": {},
   "outputs": [],
   "source": []
  }
 ],
 "metadata": {
  "kernelspec": {
   "display_name": "Python 3",
   "language": "python",
   "name": "python3"
  },
  "language_info": {
   "codemirror_mode": {
    "name": "ipython",
    "version": 3
   },
   "file_extension": ".py",
   "mimetype": "text/x-python",
   "name": "python",
   "nbconvert_exporter": "python",
   "pygments_lexer": "ipython3",
   "version": "3.7.4"
  }
 },
 "nbformat": 4,
 "nbformat_minor": 2
}
